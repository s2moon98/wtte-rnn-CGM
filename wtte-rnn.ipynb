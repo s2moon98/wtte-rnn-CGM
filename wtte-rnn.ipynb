{
  "nbformat": 4,
  "nbformat_minor": 0,
  "metadata": {
    "accelerator": "GPU",
    "colab": {
      "name": "turbofan 최종.ipynb",
      "provenance": [],
      "toc_visible": true,
      "include_colab_link": true
    },
    "kernelspec": {
      "display_name": "Python 3",
      "language": "python",
      "name": "python3"
    },
    "language_info": {
      "codemirror_mode": {
        "name": "ipython",
        "version": 3
      },
      "file_extension": ".py",
      "mimetype": "text/x-python",
      "name": "python",
      "nbconvert_exporter": "python",
      "pygments_lexer": "ipython3",
      "version": "3.6.12"
    }
  },
  "cells": [
    {
      "cell_type": "markdown",
      "metadata": {
        "id": "view-in-github",
        "colab_type": "text"
      },
      "source": [
        "<a href=\"https://colab.research.google.com/github/s2moon98/wtte-rnn-CGM/blob/main/wtte-rnn.ipynb\" target=\"_parent\"><img src=\"https://colab.research.google.com/assets/colab-badge.svg\" alt=\"Open In Colab\"/></a>"
      ]
    },
    {
      "cell_type": "markdown",
      "metadata": {
        "id": "jtgSKDaR7N7S"
      },
      "source": [
        "# Predictive Maintenance for the Turbofan Engine Dataset\n"
      ]
    },
    {
      "cell_type": "markdown",
      "metadata": {
        "id": "b03bwm7-7N7Z"
      },
      "source": [
        "## Data Preparation"
      ]
    },
    {
      "cell_type": "code",
      "metadata": {
        "colab": {
          "base_uri": "https://localhost:8080/"
        },
        "id": "yMUdSvG17N7c",
        "outputId": "a59f897d-e9e7-43e1-b102-03a433abd681"
      },
      "source": [
        "import keras\n",
        "import keras.backend as K\n",
        "\n",
        "print (\"Keras version\", keras.__version__)\n",
        "\n",
        "import pandas as pd\n",
        "import numpy as np\n",
        "import matplotlib\n",
        "import matplotlib.pyplot as plt\n",
        "from keras.optimizers import RMSprop\n",
        "from keras.optimizers import Adam\n",
        "from keras.optimizers import Nadam\n",
        "\n",
        "# Setting seed for reproducibility\n",
        "SEED = 42\n",
        "np.random.seed(SEED)  "
      ],
      "execution_count": 1,
      "outputs": [
        {
          "output_type": "stream",
          "text": [
            "Keras version 2.4.3\n"
          ],
          "name": "stdout"
        }
      ]
    },
    {
      "cell_type": "code",
      "metadata": {
        "colab": {
          "base_uri": "https://localhost:8080/"
        },
        "id": "BKo-Vz0fE5B9",
        "outputId": "81c7412c-f7b3-420e-8df9-758906b59e38"
      },
      "source": [
        "!mkdir Dataset\n",
        "!mkdir Models\n",
        "\n",
        "!wget -q https://raw.githubusercontent.com/Manelmc/rnn-time-to-event/master/Dataset/PM_test.txt -O Dataset/PM_test.txt \n",
        "!wget -q https://raw.githubusercontent.com/Manelmc/rnn-time-to-event/master/Dataset/PM_train.txt -O Dataset/PM_train.txt  \n",
        "!wget -q https://raw.githubusercontent.com/Manelmc/rnn-time-to-event/master/Dataset/PM_truth.txt -O Dataset/PM_truth.txt\n",
        "  \n",
        "!ls Dataset"
      ],
      "execution_count": 2,
      "outputs": [
        {
          "output_type": "stream",
          "text": [
            "PM_test.txt  PM_train.txt  PM_truth.txt\n"
          ],
          "name": "stdout"
        }
      ]
    },
    {
      "cell_type": "markdown",
      "metadata": {
        "id": "Dk3N_qGl7N77"
      },
      "source": [
        "### Turbofan Train Set"
      ]
    },
    {
      "cell_type": "code",
      "metadata": {
        "id": "vQb4goYzlXxB",
        "colab": {
          "base_uri": "https://localhost:8080/",
          "height": 35
        },
        "outputId": "beb2c69c-ce80-4e59-d027-cf8c935b7d20"
      },
      "source": [
        "pwd"
      ],
      "execution_count": null,
      "outputs": [
        {
          "output_type": "execute_result",
          "data": {
            "application/vnd.google.colaboratory.intrinsic+json": {
              "type": "string"
            },
            "text/plain": [
              "'/content'"
            ]
          },
          "metadata": {
            "tags": []
          },
          "execution_count": 3
        }
      ]
    },
    {
      "cell_type": "markdown",
      "metadata": {
        "id": "BO02SKwh7N8I"
      },
      "source": [
        "### Turbofan Test Set"
      ]
    },
    {
      "cell_type": "code",
      "metadata": {
        "colab": {
          "base_uri": "https://localhost:8080/",
          "height": 197
        },
        "id": "n-g2DTGy7N7-",
        "scrolled": true,
        "outputId": "ebc844b5-40c3-4a7e-f55c-8bbc80d93d7f"
      },
      "source": [
        "from sklearn import preprocessing\n",
        "\n",
        "# read training data - It is the aircraft engine run-to-failure data.\n",
        "train_df = pd.read_csv('Dataset/1_19_train_set.txt', sep=\" \", header=None)\n",
        "train_df.drop(train_df.columns[[5, 6]], axis=1, inplace=True)\n",
        "train_df.columns = ['id', 'cycle', 's1', 's2', 's3']\n",
        "\n",
        "train_df = train_df.sort_values(['id','cycle'])\n",
        "\n",
        "# Data Labeling - generate column RUL (Remaining Useful Life or Time to Failure)\n",
        "rul = pd.DataFrame(train_df.groupby('id')['cycle'].max()).reset_index()\n",
        "rul.columns = ['id', 'max']\n",
        "train_df = train_df.merge(rul, on=['id'], how='left')\n",
        "train_df['RUL'] = train_df['max'] - train_df['cycle']\n",
        "train_df.drop('max', axis=1, inplace=True)\n",
        "\n",
        "# MinMax normalization (from 0 to 1)\n",
        "train_df['cycle_norm'] = train_df['cycle']\n",
        "cols_normalize = train_df.columns.difference(['id','cycle','RUL','label1','label2', 'label3'])\n",
        "min_max_scaler = preprocessing.MinMaxScaler()\n",
        "norm_train_df = pd.DataFrame(min_max_scaler.fit_transform(train_df[cols_normalize]), \n",
        "                             columns=cols_normalize, \n",
        "                             index=train_df.index)\n",
        "join_df = train_df[train_df.columns.difference(cols_normalize)].join(norm_train_df)\n",
        "train_df = join_df.reindex(columns = train_df.columns)\n",
        "\n",
        "train_df[train_df[\"id\"] == 1].tail()"
      ],
      "execution_count": 4,
      "outputs": [
        {
          "output_type": "execute_result",
          "data": {
            "text/html": [
              "<div>\n",
              "<style scoped>\n",
              "    .dataframe tbody tr th:only-of-type {\n",
              "        vertical-align: middle;\n",
              "    }\n",
              "\n",
              "    .dataframe tbody tr th {\n",
              "        vertical-align: top;\n",
              "    }\n",
              "\n",
              "    .dataframe thead th {\n",
              "        text-align: right;\n",
              "    }\n",
              "</style>\n",
              "<table border=\"1\" class=\"dataframe\">\n",
              "  <thead>\n",
              "    <tr style=\"text-align: right;\">\n",
              "      <th></th>\n",
              "      <th>id</th>\n",
              "      <th>cycle</th>\n",
              "      <th>s1</th>\n",
              "      <th>s2</th>\n",
              "      <th>s3</th>\n",
              "      <th>RUL</th>\n",
              "      <th>cycle_norm</th>\n",
              "    </tr>\n",
              "  </thead>\n",
              "  <tbody>\n",
              "    <tr>\n",
              "      <th>275</th>\n",
              "      <td>1</td>\n",
              "      <td>276</td>\n",
              "      <td>0.084986</td>\n",
              "      <td>0.0</td>\n",
              "      <td>0.004452</td>\n",
              "      <td>4</td>\n",
              "      <td>0.916667</td>\n",
              "    </tr>\n",
              "    <tr>\n",
              "      <th>276</th>\n",
              "      <td>1</td>\n",
              "      <td>277</td>\n",
              "      <td>0.082153</td>\n",
              "      <td>0.0</td>\n",
              "      <td>0.004240</td>\n",
              "      <td>3</td>\n",
              "      <td>0.920000</td>\n",
              "    </tr>\n",
              "    <tr>\n",
              "      <th>277</th>\n",
              "      <td>1</td>\n",
              "      <td>278</td>\n",
              "      <td>0.084986</td>\n",
              "      <td>0.0</td>\n",
              "      <td>0.004240</td>\n",
              "      <td>2</td>\n",
              "      <td>0.923333</td>\n",
              "    </tr>\n",
              "    <tr>\n",
              "      <th>278</th>\n",
              "      <td>1</td>\n",
              "      <td>279</td>\n",
              "      <td>0.079320</td>\n",
              "      <td>0.0</td>\n",
              "      <td>0.004240</td>\n",
              "      <td>1</td>\n",
              "      <td>0.926667</td>\n",
              "    </tr>\n",
              "    <tr>\n",
              "      <th>279</th>\n",
              "      <td>1</td>\n",
              "      <td>280</td>\n",
              "      <td>0.070822</td>\n",
              "      <td>0.0</td>\n",
              "      <td>0.004040</td>\n",
              "      <td>0</td>\n",
              "      <td>0.930000</td>\n",
              "    </tr>\n",
              "  </tbody>\n",
              "</table>\n",
              "</div>"
            ],
            "text/plain": [
              "     id  cycle        s1   s2        s3  RUL  cycle_norm\n",
              "275   1    276  0.084986  0.0  0.004452    4    0.916667\n",
              "276   1    277  0.082153  0.0  0.004240    3    0.920000\n",
              "277   1    278  0.084986  0.0  0.004240    2    0.923333\n",
              "278   1    279  0.079320  0.0  0.004240    1    0.926667\n",
              "279   1    280  0.070822  0.0  0.004040    0    0.930000"
            ]
          },
          "metadata": {
            "tags": []
          },
          "execution_count": 4
        }
      ]
    },
    {
      "cell_type": "code",
      "metadata": {
        "colab": {
          "base_uri": "https://localhost:8080/",
          "height": 197
        },
        "id": "G7sYuhXd7N8J",
        "outputId": "4a98efa4-606f-4d06-8148-a9211375d55f"
      },
      "source": [
        "from sklearn import preprocessing\n",
        "\n",
        "# read test data - It is the aircraft engine operating data without failure events recorded.\n",
        "test_df = pd.read_csv('Dataset/4p_test_set.txt', sep=\" \", header=None)\n",
        "test_df.drop(test_df.columns[[5, 6]], axis=1, inplace=True)\n",
        "test_df.columns = ['id', 'cycle', 's1', 's2', 's3']\n",
        "\n",
        "# MinMax normalization (from 0 to 1)\n",
        "test_df['cycle_norm'] = test_df['cycle']\n",
        "norm_test_df = pd.DataFrame(min_max_scaler.transform(test_df[cols_normalize]), \n",
        "                            columns=cols_normalize, \n",
        "                            index=test_df.index)\n",
        "test_join_df = test_df[test_df.columns.difference(cols_normalize)].join(norm_test_df)\n",
        "test_df = test_join_df.reindex(columns = test_df.columns)\n",
        "test_df = test_df.reset_index(drop=True)\n",
        "\n",
        "# read ground truth data - It contains the information of true remaining cycles for each engine in the testing data.\n",
        "truth_df = pd.read_csv('Dataset/PM_truth.txt', sep=\" \", header=None)\n",
        "truth_df.drop(truth_df.columns[[1]], axis=1, inplace=True)\n",
        "\n",
        "# generate column max for test data\n",
        "rul = pd.DataFrame(test_df.groupby('id')['cycle'].max()).reset_index()\n",
        "rul.columns = ['id', 'max']\n",
        "truth_df.columns = ['more']\n",
        "truth_df['id'] = truth_df.index + 1\n",
        "truth_df['max'] = rul['max'] + truth_df['more']\n",
        "truth_df.drop('more', axis=1, inplace=True)\n",
        "\n",
        "# generate RUL for test data\n",
        "test_df = test_df.merge(truth_df, on=['id'], how='left')\n",
        "test_df['RUL'] = test_df['max'] - test_df['cycle']\n",
        "test_df.drop('max', axis=1, inplace=True)\n",
        "\n",
        "test_df[test_df[\"id\"] == 1].tail()"
      ],
      "execution_count": 5,
      "outputs": [
        {
          "output_type": "execute_result",
          "data": {
            "text/html": [
              "<div>\n",
              "<style scoped>\n",
              "    .dataframe tbody tr th:only-of-type {\n",
              "        vertical-align: middle;\n",
              "    }\n",
              "\n",
              "    .dataframe tbody tr th {\n",
              "        vertical-align: top;\n",
              "    }\n",
              "\n",
              "    .dataframe thead th {\n",
              "        text-align: right;\n",
              "    }\n",
              "</style>\n",
              "<table border=\"1\" class=\"dataframe\">\n",
              "  <thead>\n",
              "    <tr style=\"text-align: right;\">\n",
              "      <th></th>\n",
              "      <th>id</th>\n",
              "      <th>cycle</th>\n",
              "      <th>s1</th>\n",
              "      <th>s2</th>\n",
              "      <th>s3</th>\n",
              "      <th>cycle_norm</th>\n",
              "      <th>RUL</th>\n",
              "    </tr>\n",
              "  </thead>\n",
              "  <tbody>\n",
              "    <tr>\n",
              "      <th>208</th>\n",
              "      <td>1</td>\n",
              "      <td>209</td>\n",
              "      <td>0.118980</td>\n",
              "      <td>0.0</td>\n",
              "      <td>0.123231</td>\n",
              "      <td>0.693333</td>\n",
              "      <td>116.0</td>\n",
              "    </tr>\n",
              "    <tr>\n",
              "      <th>209</th>\n",
              "      <td>1</td>\n",
              "      <td>210</td>\n",
              "      <td>0.116147</td>\n",
              "      <td>0.0</td>\n",
              "      <td>0.123231</td>\n",
              "      <td>0.696667</td>\n",
              "      <td>115.0</td>\n",
              "    </tr>\n",
              "    <tr>\n",
              "      <th>210</th>\n",
              "      <td>1</td>\n",
              "      <td>211</td>\n",
              "      <td>0.110482</td>\n",
              "      <td>0.0</td>\n",
              "      <td>0.108042</td>\n",
              "      <td>0.700000</td>\n",
              "      <td>114.0</td>\n",
              "    </tr>\n",
              "    <tr>\n",
              "      <th>211</th>\n",
              "      <td>1</td>\n",
              "      <td>212</td>\n",
              "      <td>0.099150</td>\n",
              "      <td>0.0</td>\n",
              "      <td>0.108042</td>\n",
              "      <td>0.703333</td>\n",
              "      <td>113.0</td>\n",
              "    </tr>\n",
              "    <tr>\n",
              "      <th>212</th>\n",
              "      <td>1</td>\n",
              "      <td>213</td>\n",
              "      <td>0.073654</td>\n",
              "      <td>0.0</td>\n",
              "      <td>0.108042</td>\n",
              "      <td>0.706667</td>\n",
              "      <td>112.0</td>\n",
              "    </tr>\n",
              "  </tbody>\n",
              "</table>\n",
              "</div>"
            ],
            "text/plain": [
              "     id  cycle        s1   s2        s3  cycle_norm    RUL\n",
              "208   1    209  0.118980  0.0  0.123231    0.693333  116.0\n",
              "209   1    210  0.116147  0.0  0.123231    0.696667  115.0\n",
              "210   1    211  0.110482  0.0  0.108042    0.700000  114.0\n",
              "211   1    212  0.099150  0.0  0.108042    0.703333  113.0\n",
              "212   1    213  0.073654  0.0  0.108042    0.706667  112.0"
            ]
          },
          "metadata": {
            "tags": []
          },
          "execution_count": 5
        }
      ]
    },
    {
      "cell_type": "markdown",
      "metadata": {
        "id": "N3Pwu0NAu8uB"
      },
      "source": [
        "### Apply right padding to all the sequences"
      ]
    },
    {
      "cell_type": "code",
      "metadata": {
        "id": "WpyUe_e-u8uC"
      },
      "source": [
        "def pad_sequence(df, max_seq_length, mask=0):\n",
        "    \"\"\"\n",
        "    Applies right padding to a sequences until max_seq_length with mask \n",
        "    \"\"\"\n",
        "    return np.pad(df.values, ((0, max_seq_length - df.values.shape[0]), (0,0)), \n",
        "                  \"constant\", constant_values=mask)\n",
        "  \n",
        "def pad_engines(df, cols, max_batch_len, mask=0):\n",
        "    \"\"\"\n",
        "    Applies right padding to the columns \"cols\" of all the engines \n",
        "    \"\"\"\n",
        "    return np.array([pad_sequence(df[df['id'] == batch_id][cols], max_batch_len, mask=mask) \n",
        "                     for batch_id in df['id'].unique()])\n",
        "  \n",
        "max_batch_len = train_df['id'].value_counts().max()\n",
        "train_cols = ['s' + str(i) for i in range(1,4)] + ['cycle_norm']\n",
        "test_cols = [\"RUL\"]\n",
        "\n",
        "X = pad_engines(train_df, train_cols, max_batch_len)\n",
        "Y = pad_engines(train_df, test_cols, max_batch_len)"
      ],
      "execution_count": 6,
      "outputs": []
    },
    {
      "cell_type": "markdown",
      "metadata": {
        "id": "Y81ctz7o7N8Q"
      },
      "source": [
        "### Split into train, validation and test"
      ]
    },
    {
      "cell_type": "code",
      "metadata": {
        "colab": {
          "base_uri": "https://localhost:8080/"
        },
        "id": "30tAtclX7OAU",
        "outputId": "055264c9-f058-4625-d2a3-71e944af0902"
      },
      "source": [
        "from sklearn.model_selection import train_test_split\n",
        "\n",
        "# Split into train and validation\n",
        "train_X, val_X, train_Y, val_Y = train_test_split(X, Y, test_size=0.20, random_state=SEED)\n",
        "\n",
        "# Test set from CMAPSS\n",
        "test_X = pad_engines(test_df, train_cols, max_batch_len)\n",
        "test_Y = pad_engines(test_df, test_cols, max_batch_len)\n",
        "\n",
        "# In the WTTE-RNN architecture we will predict 2 parameters (alpha and beta)\n",
        "# alpha is initialised to 1\n",
        "train_Y_wtte = np.concatenate((train_Y, np.ones(train_Y.shape)), axis=2)\n",
        "val_Y_wtte = np.concatenate((val_Y, np.ones(val_Y.shape)), axis=2)\n",
        "test_Y_wtte = np.concatenate((test_Y, np.ones(test_Y.shape)), axis=2)\n",
        "\n",
        "print (\"Train:\\n\", \"  X:\", train_X.shape, \"\\n  Y:\", train_Y.shape, \"\\n  Y_wtte:\", train_Y_wtte.shape)\n",
        "print (\"\\nValidation:\\n\", \"  X:\", val_X.shape, \"\\n  Y:\", val_Y.shape, \"\\n  Y_wtte:\", val_Y_wtte.shape)\n",
        "print (\"\\nTest:\\n\", \"  X:\", test_X.shape, \"\\n  Y:\", test_Y.shape, \"\\n  Y_wtte:\", test_Y_wtte.shape)"
      ],
      "execution_count": 7,
      "outputs": [
        {
          "output_type": "stream",
          "text": [
            "Train:\n",
            "   X: (124, 301, 4) \n",
            "  Y: (124, 301, 1) \n",
            "  Y_wtte: (124, 301, 2)\n",
            "\n",
            "Validation:\n",
            "   X: (32, 301, 4) \n",
            "  Y: (32, 301, 1) \n",
            "  Y_wtte: (32, 301, 2)\n",
            "\n",
            "Test:\n",
            "   X: (131, 301, 4) \n",
            "  Y: (131, 301, 1) \n",
            "  Y_wtte: (131, 301, 2)\n"
          ],
          "name": "stdout"
        }
      ]
    },
    {
      "cell_type": "markdown",
      "metadata": {
        "id": "kHgDFzAt7N8Z"
      },
      "source": [
        "## Baseline"
      ]
    },
    {
      "cell_type": "code",
      "metadata": {
        "id": "s9ZCqEGYlXxH"
      },
      "source": [
        "from keras.layers import Masking\n",
        "from keras.layers.core import Activation\n",
        "from keras.models import Sequential\n",
        "from keras.layers import Dense, LSTM, TimeDistributed\n",
        "from keras.callbacks import EarlyStopping, ModelCheckpoint\n",
        "\n",
        "# Model path\n",
        "baseline_path = \"baseline_model\"\n",
        "\n",
        "# Callbacks\n",
        "early_stopping = EarlyStopping(monitor='val_loss', \n",
        "                               min_delta=0, \n",
        "                               patience=30, \n",
        "                               verbose=0, \n",
        "                               mode='min')\n",
        "checkpoint = ModelCheckpoint(baseline_path, \n",
        "                             monitor='val_loss', \n",
        "                             save_best_only=True, \n",
        "                             mode='min', \n",
        "                             verbose=0)\n",
        "# dimensions of the model\n",
        "nb_features = train_X.shape[2]\n",
        "nb_out = train_Y.shape[2]\n",
        "\n",
        "model = Sequential()"
      ],
      "execution_count": 8,
      "outputs": []
    },
    {
      "cell_type": "code",
      "metadata": {
        "colab": {
          "base_uri": "https://localhost:8080/",
          "height": 808
        },
        "id": "1PhJGvTr7N8d",
        "scrolled": true,
        "outputId": "d8e36bad-165c-41c1-a781-63818d0c33a9"
      },
      "source": [
        "from keras.layers import Masking\n",
        "from keras.layers.core import Activation\n",
        "from keras.models import Sequential\n",
        "from keras.layers import Dense, LSTM, TimeDistributed\n",
        "from keras.callbacks import EarlyStopping, ModelCheckpoint\n",
        "\n",
        "# Model path\n",
        "baseline_path = \"baseline_model\"\n",
        "\n",
        "# Callbacks\n",
        "early_stopping = EarlyStopping(monitor='val_loss', \n",
        "                               min_delta=0, \n",
        "                               patience=30, \n",
        "                               verbose=0, \n",
        "                               mode='min')\n",
        "checkpoint = ModelCheckpoint(baseline_path, \n",
        "                             monitor='val_loss', \n",
        "                             save_best_only=True, \n",
        "                             mode='min', \n",
        "                             verbose=0)\n",
        "# dimensions of the model\n",
        "nb_features = train_X.shape[2]\n",
        "nb_out = train_Y.shape[2]\n",
        "\n",
        "model = Sequential()\n",
        "# Masking layer so the right padding is ignored \n",
        "# at each layer of the network \n",
        "model.add(Masking(mask_value=0., \n",
        "                  input_shape=(max_batch_len, nb_features)))\n",
        "# Then there s an LSTM layer with 100 units \n",
        "# Recurrent Dropout is also applied after each \n",
        "# LSTM layer to control overfitting. \n",
        "model.add(LSTM(\n",
        "         units=100,\n",
        "         recurrent_dropout=0.2,\n",
        "         return_sequences=True))\n",
        "# followed by another LSTM layer with 50 units\n",
        "model.add(LSTM(\n",
        "         units=50,\n",
        "         recurrent_dropout=0.2,\n",
        "         return_sequences=True))\n",
        "# Final layer is a Time-Distributed Dense layer\n",
        "# with a single unit with an Exponential activation\n",
        "model.add(TimeDistributed(Dense(nb_out, activation=K.exp)))\n",
        "model.compile(loss=\"mse\", optimizer=keras.optimizers.RMSprop())\n",
        "\n",
        "print(model.summary())\n",
        "\n",
        "# fit the network\n",
        "history = model.fit(train_X, train_Y, epochs=3, batch_size=200, \n",
        "                    validation_data=(val_X, val_Y), shuffle=True, \n",
        "                    verbose=2, callbacks = [early_stopping, checkpoint])\n",
        "\n",
        "# list all data in history\n",
        "print(history.history.keys())\n",
        "%matplotlib inline\n",
        "plt.plot(history.history[\"loss\"])\n",
        "plt.plot(history.history[\"val_loss\"])"
      ],
      "execution_count": 9,
      "outputs": [
        {
          "output_type": "stream",
          "text": [
            "WARNING:tensorflow:Layer lstm will not use cuDNN kernel since it doesn't meet the cuDNN kernel criteria. It will use generic GPU kernel as fallback when running on GPU\n",
            "WARNING:tensorflow:Layer lstm_1 will not use cuDNN kernel since it doesn't meet the cuDNN kernel criteria. It will use generic GPU kernel as fallback when running on GPU\n",
            "Model: \"sequential_1\"\n",
            "_________________________________________________________________\n",
            "Layer (type)                 Output Shape              Param #   \n",
            "=================================================================\n",
            "masking (Masking)            (None, 301, 4)            0         \n",
            "_________________________________________________________________\n",
            "lstm (LSTM)                  (None, 301, 100)          42000     \n",
            "_________________________________________________________________\n",
            "lstm_1 (LSTM)                (None, 301, 50)           30200     \n",
            "_________________________________________________________________\n",
            "time_distributed (TimeDistri (None, 301, 1)            51        \n",
            "=================================================================\n",
            "Total params: 72,251\n",
            "Trainable params: 72,251\n",
            "Non-trainable params: 0\n",
            "_________________________________________________________________\n",
            "None\n",
            "Epoch 1/3\n",
            "1/1 - 9s - loss: 15910.3477 - val_loss: 18162.5273\n",
            "INFO:tensorflow:Assets written to: baseline_model/assets\n",
            "Epoch 2/3\n",
            "1/1 - 2s - loss: 15851.1357 - val_loss: 17825.2812\n",
            "INFO:tensorflow:Assets written to: baseline_model/assets\n",
            "Epoch 3/3\n",
            "1/1 - 2s - loss: 15551.3760 - val_loss: 11933.0859\n",
            "INFO:tensorflow:Assets written to: baseline_model/assets\n",
            "dict_keys(['loss', 'val_loss'])\n"
          ],
          "name": "stdout"
        },
        {
          "output_type": "execute_result",
          "data": {
            "text/plain": [
              "[<matplotlib.lines.Line2D at 0x7f1c001a9c50>]"
            ]
          },
          "metadata": {
            "tags": []
          },
          "execution_count": 9
        },
        {
          "output_type": "display_data",
          "data": {
            "image/png": "[encoded data removed]",
            "text/plain": [
              "<Figure size 432x288 with 1 Axes>"
            ]
          },
          "metadata": {
            "tags": [],
            "needs_background": "light"
          }
        }
      ]
    },
    {
      "cell_type": "code",
      "metadata": {
        "id": "XCouzbRs-o-o"
      },
      "source": [
        "#keras model h5형태로 저장\r\n",
        "from keras.models import load_model\r\n",
        "\r\n",
        "model.save('wtte-rnn.h5')"
      ],
      "execution_count": 10,
      "outputs": []
    },
    {
      "cell_type": "code",
      "metadata": {
        "colab": {
          "base_uri": "https://localhost:8080/",
          "height": 708
        },
        "id": "nSUoHHacIeyd",
        "outputId": "2a82f296-330d-42d2-fac0-3d0722b409a7"
      },
      "source": [
        "#h5로 keras model 내부 구조 출력\r\n",
        "from IPython.display import SVG\r\n",
        "from keras.utils.vis_utils import model_to_dot\r\n",
        "\r\n",
        "%matplotlib inline\r\n",
        "\r\n",
        "SVG(model_to_dot(model, show_shapes=True).create(prog='dot', format='svg'))"
      ],
      "execution_count": 11,
      "outputs": [
        {
          "output_type": "execute_result",
          "data": {
            "text/plain": [
              "<IPython.core.display.SVG object>"
            ],
            "image/svg+xml": "<svg height=\"516pt\" viewBox=\"0.00 0.00 472.00 387.00\" width=\"629pt\" xmlns=\"http://www.w3.org/2000/svg\" xmlns:xlink=\"http://www.w3.org/1999/xlink\">\n<g class=\"graph\" id=\"graph0\" transform=\"scale(1.3333 1.3333) rotate(0) translate(4 383)\">\n<title>G</title>\n<polygon fill=\"#ffffff\" points=\"-4,4 -4,-383 468,-383 468,4 -4,4\" stroke=\"transparent\"/>\n<!-- 139760594491920 -->\n<g class=\"node\" id=\"node1\">\n<title>139760594491920</title>\n<polygon fill=\"none\" points=\"60.5,-332.5 60.5,-378.5 403.5,-378.5 403.5,-332.5 60.5,-332.5\" stroke=\"#000000\"/>\n<text fill=\"#000000\" font-family=\"Times,serif\" font-size=\"14.00\" text-anchor=\"middle\" x=\"147.5\" y=\"-351.8\">masking_input: InputLayer</text>\n<polyline fill=\"none\" points=\"234.5,-332.5 234.5,-378.5 \" stroke=\"#000000\"/>\n<text fill=\"#000000\" font-family=\"Times,serif\" font-size=\"14.00\" text-anchor=\"middle\" x=\"263.5\" y=\"-363.3\">input:</text>\n<polyline fill=\"none\" points=\"234.5,-355.5 292.5,-355.5 \" stroke=\"#000000\"/>\n<text fill=\"#000000\" font-family=\"Times,serif\" font-size=\"14.00\" text-anchor=\"middle\" x=\"263.5\" y=\"-340.3\">output:</text>\n<polyline fill=\"none\" points=\"292.5,-332.5 292.5,-378.5 \" stroke=\"#000000\"/>\n<text fill=\"#000000\" font-family=\"Times,serif\" font-size=\"14.00\" text-anchor=\"middle\" x=\"348\" y=\"-363.3\">[(None, 301, 4)]</text>\n<polyline fill=\"none\" points=\"292.5,-355.5 403.5,-355.5 \" stroke=\"#000000\"/>\n<text fill=\"#000000\" font-family=\"Times,serif\" font-size=\"14.00\" text-anchor=\"middle\" x=\"348\" y=\"-340.3\">[(None, 301, 4)]</text>\n</g>\n<!-- 139760599375632 -->\n<g class=\"node\" id=\"node2\">\n<title>139760599375632</title>\n<polygon fill=\"none\" points=\"90.5,-249.5 90.5,-295.5 373.5,-295.5 373.5,-249.5 90.5,-249.5\" stroke=\"#000000\"/>\n<text fill=\"#000000\" font-family=\"Times,serif\" font-size=\"14.00\" text-anchor=\"middle\" x=\"152\" y=\"-268.8\">masking: Masking</text>\n<polyline fill=\"none\" points=\"213.5,-249.5 213.5,-295.5 \" stroke=\"#000000\"/>\n<text fill=\"#000000\" font-family=\"Times,serif\" font-size=\"14.00\" text-anchor=\"middle\" x=\"242.5\" y=\"-280.3\">input:</text>\n<polyline fill=\"none\" points=\"213.5,-272.5 271.5,-272.5 \" stroke=\"#000000\"/>\n<text fill=\"#000000\" font-family=\"Times,serif\" font-size=\"14.00\" text-anchor=\"middle\" x=\"242.5\" y=\"-257.3\">output:</text>\n<polyline fill=\"none\" points=\"271.5,-249.5 271.5,-295.5 \" stroke=\"#000000\"/>\n<text fill=\"#000000\" font-family=\"Times,serif\" font-size=\"14.00\" text-anchor=\"middle\" x=\"322.5\" y=\"-280.3\">(None, 301, 4)</text>\n<polyline fill=\"none\" points=\"271.5,-272.5 373.5,-272.5 \" stroke=\"#000000\"/>\n<text fill=\"#000000\" font-family=\"Times,serif\" font-size=\"14.00\" text-anchor=\"middle\" x=\"322.5\" y=\"-257.3\">(None, 301, 4)</text>\n</g>\n<!-- 139760594491920&#45;&gt;139760599375632 -->\n<g class=\"edge\" id=\"edge1\">\n<title>139760594491920-&gt;139760599375632</title>\n<path d=\"M232,-332.3799C232,-324.1745 232,-314.7679 232,-305.8786\" fill=\"none\" stroke=\"#000000\"/>\n<polygon fill=\"#000000\" points=\"235.5001,-305.784 232,-295.784 228.5001,-305.784 235.5001,-305.784\" stroke=\"#000000\"/>\n</g>\n<!-- 139760599375824 -->\n<g class=\"node\" id=\"node3\">\n<title>139760599375824</title>\n<polygon fill=\"none\" points=\"101,-166.5 101,-212.5 363,-212.5 363,-166.5 101,-166.5\" stroke=\"#000000\"/>\n<text fill=\"#000000\" font-family=\"Times,serif\" font-size=\"14.00\" text-anchor=\"middle\" x=\"144.5\" y=\"-185.8\">lstm: LSTM</text>\n<polyline fill=\"none\" points=\"188,-166.5 188,-212.5 \" stroke=\"#000000\"/>\n<text fill=\"#000000\" font-family=\"Times,serif\" font-size=\"14.00\" text-anchor=\"middle\" x=\"217\" y=\"-197.3\">input:</text>\n<polyline fill=\"none\" points=\"188,-189.5 246,-189.5 \" stroke=\"#000000\"/>\n<text fill=\"#000000\" font-family=\"Times,serif\" font-size=\"14.00\" text-anchor=\"middle\" x=\"217\" y=\"-174.3\">output:</text>\n<polyline fill=\"none\" points=\"246,-166.5 246,-212.5 \" stroke=\"#000000\"/>\n<text fill=\"#000000\" font-family=\"Times,serif\" font-size=\"14.00\" text-anchor=\"middle\" x=\"304.5\" y=\"-197.3\">(None, 301, 4)</text>\n<polyline fill=\"none\" points=\"246,-189.5 363,-189.5 \" stroke=\"#000000\"/>\n<text fill=\"#000000\" font-family=\"Times,serif\" font-size=\"14.00\" text-anchor=\"middle\" x=\"304.5\" y=\"-174.3\">(None, 301, 100)</text>\n</g>\n<!-- 139760599375632&#45;&gt;139760599375824 -->\n<g class=\"edge\" id=\"edge2\">\n<title>139760599375632-&gt;139760599375824</title>\n<path d=\"M232,-249.3799C232,-241.1745 232,-231.7679 232,-222.8786\" fill=\"none\" stroke=\"#000000\"/>\n<polygon fill=\"#000000\" points=\"235.5001,-222.784 232,-212.784 228.5001,-222.784 235.5001,-222.784\" stroke=\"#000000\"/>\n</g>\n<!-- 139759310583632 -->\n<g class=\"node\" id=\"node4\">\n<title>139759310583632</title>\n<polygon fill=\"none\" points=\"93.5,-83.5 93.5,-129.5 370.5,-129.5 370.5,-83.5 93.5,-83.5\" stroke=\"#000000\"/>\n<text fill=\"#000000\" font-family=\"Times,serif\" font-size=\"14.00\" text-anchor=\"middle\" x=\"144.5\" y=\"-102.8\">lstm_1: LSTM</text>\n<polyline fill=\"none\" points=\"195.5,-83.5 195.5,-129.5 \" stroke=\"#000000\"/>\n<text fill=\"#000000\" font-family=\"Times,serif\" font-size=\"14.00\" text-anchor=\"middle\" x=\"224.5\" y=\"-114.3\">input:</text>\n<polyline fill=\"none\" points=\"195.5,-106.5 253.5,-106.5 \" stroke=\"#000000\"/>\n<text fill=\"#000000\" font-family=\"Times,serif\" font-size=\"14.00\" text-anchor=\"middle\" x=\"224.5\" y=\"-91.3\">output:</text>\n<polyline fill=\"none\" points=\"253.5,-83.5 253.5,-129.5 \" stroke=\"#000000\"/>\n<text fill=\"#000000\" font-family=\"Times,serif\" font-size=\"14.00\" text-anchor=\"middle\" x=\"312\" y=\"-114.3\">(None, 301, 100)</text>\n<polyline fill=\"none\" points=\"253.5,-106.5 370.5,-106.5 \" stroke=\"#000000\"/>\n<text fill=\"#000000\" font-family=\"Times,serif\" font-size=\"14.00\" text-anchor=\"middle\" x=\"312\" y=\"-91.3\">(None, 301, 50)</text>\n</g>\n<!-- 139760599375824&#45;&gt;139759310583632 -->\n<g class=\"edge\" id=\"edge3\">\n<title>139760599375824-&gt;139759310583632</title>\n<path d=\"M232,-166.3799C232,-158.1745 232,-148.7679 232,-139.8786\" fill=\"none\" stroke=\"#000000\"/>\n<polygon fill=\"#000000\" points=\"235.5001,-139.784 232,-129.784 228.5001,-139.784 235.5001,-139.784\" stroke=\"#000000\"/>\n</g>\n<!-- 139759040598096 -->\n<g class=\"node\" id=\"node5\">\n<title>139759040598096</title>\n<polygon fill=\"none\" points=\"0,-.5 0,-46.5 464,-46.5 464,-.5 0,-.5\" stroke=\"#000000\"/>\n<text fill=\"#000000\" font-family=\"Times,serif\" font-size=\"14.00\" text-anchor=\"middle\" x=\"148\" y=\"-19.8\">time_distributed(dense): TimeDistributed(Dense)</text>\n<polyline fill=\"none\" points=\"296,-.5 296,-46.5 \" stroke=\"#000000\"/>\n<text fill=\"#000000\" font-family=\"Times,serif\" font-size=\"14.00\" text-anchor=\"middle\" x=\"325\" y=\"-31.3\">input:</text>\n<polyline fill=\"none\" points=\"296,-23.5 354,-23.5 \" stroke=\"#000000\"/>\n<text fill=\"#000000\" font-family=\"Times,serif\" font-size=\"14.00\" text-anchor=\"middle\" x=\"325\" y=\"-8.3\">output:</text>\n<polyline fill=\"none\" points=\"354,-.5 354,-46.5 \" stroke=\"#000000\"/>\n<text fill=\"#000000\" font-family=\"Times,serif\" font-size=\"14.00\" text-anchor=\"middle\" x=\"409\" y=\"-31.3\">(None, 301, 50)</text>\n<polyline fill=\"none\" points=\"354,-23.5 464,-23.5 \" stroke=\"#000000\"/>\n<text fill=\"#000000\" font-family=\"Times,serif\" font-size=\"14.00\" text-anchor=\"middle\" x=\"409\" y=\"-8.3\">(None, 301, 1)</text>\n</g>\n<!-- 139759310583632&#45;&gt;139759040598096 -->\n<g class=\"edge\" id=\"edge4\">\n<title>139759310583632-&gt;139759040598096</title>\n<path d=\"M232,-83.3799C232,-75.1745 232,-65.7679 232,-56.8786\" fill=\"none\" stroke=\"#000000\"/>\n<polygon fill=\"#000000\" points=\"235.5001,-56.784 232,-46.784 228.5001,-56.784 235.5001,-56.784\" stroke=\"#000000\"/>\n</g>\n</g>\n</svg>"
          },
          "metadata": {
            "tags": []
          },
          "execution_count": 11
        }
      ]
    },
    {
      "cell_type": "code",
      "metadata": {
        "colab": {
          "base_uri": "https://localhost:8080/"
        },
        "id": "KQn_EHp-RGKi",
        "outputId": "4f77ec3f-651b-4740-cfec-52cc6ed8ca3c"
      },
      "source": [
        "import tensorflow as tf\r\n",
        "\r\n",
        "# Convert the model.\r\n",
        "converter = tf.lite.TFLiteConverter.from_keras_model(model)\r\n",
        "tflite_model = converter.convert()\r\n",
        "\r\n",
        "# Save the model.\r\n",
        "with open('model.tflite', 'wb') as f:\r\n",
        "  f.write(tflite_model)"
      ],
      "execution_count": 13,
      "outputs": [
        {
          "output_type": "stream",
          "text": [
            "INFO:tensorflow:Assets written to: /tmp/tmpudwo56jx/assets\n"
          ],
          "name": "stdout"
        }
      ]
    },
    {
      "cell_type": "code",
      "metadata": {
        "id": "G4lxSSBr7Kkx",
        "colab": {
          "base_uri": "https://localhost:8080/",
          "height": 241
        },
        "outputId": "c544adbb-a434-4e8f-f7b8-bb8ffb3935e0"
      },
      "source": [
        "# Execute if training in Colaboratory (preferably from Chrome)\n",
        "# Downloads the model after the training finishes\n",
        "\n",
        "#from google.colab import files\n",
        "#files.download(baseline_path)\n",
        "\n",
        "# Move the model to the expected folder\n",
        "# !mv baseline_path Models/"
      ],
      "execution_count": null,
      "outputs": [
        {
          "output_type": "error",
          "ename": "NameError",
          "evalue": "ignored",
          "traceback": [
            "\u001b[0;31m---------------------------------------------------------------------------\u001b[0m",
            "\u001b[0;31mNameError\u001b[0m                                 Traceback (most recent call last)",
            "\u001b[0;32m<ipython-input-1-3771e78b45f8>\u001b[0m in \u001b[0;36m<module>\u001b[0;34m()\u001b[0m\n\u001b[1;32m      3\u001b[0m \u001b[0;34m\u001b[0m\u001b[0m\n\u001b[1;32m      4\u001b[0m \u001b[0;31m#from google.colab import files\u001b[0m\u001b[0;34m\u001b[0m\u001b[0;34m\u001b[0m\u001b[0;34m\u001b[0m\u001b[0m\n\u001b[0;32m----> 5\u001b[0;31m \u001b[0mfiles\u001b[0m\u001b[0;34m.\u001b[0m\u001b[0mdownload\u001b[0m\u001b[0;34m(\u001b[0m\u001b[0mbaseline_path\u001b[0m\u001b[0;34m)\u001b[0m\u001b[0;34m\u001b[0m\u001b[0;34m\u001b[0m\u001b[0m\n\u001b[0m\u001b[1;32m      6\u001b[0m \u001b[0;34m\u001b[0m\u001b[0m\n\u001b[1;32m      7\u001b[0m \u001b[0;31m# Move the model to the expected folder\u001b[0m\u001b[0;34m\u001b[0m\u001b[0;34m\u001b[0m\u001b[0;34m\u001b[0m\u001b[0m\n",
            "\u001b[0;31mNameError\u001b[0m: name 'files' is not defined"
          ]
        }
      ]
    },
    {
      "cell_type": "code",
      "metadata": {
        "id": "yv9PkORC6wr3",
        "scrolled": true
      },
      "source": [
        "# Validation loss vs the Training loss\n",
        "\n",
        "#%matplotlib inline\n",
        "\n",
        "#history = model.fit(train_X, train_Y, epochs=500, batch_size=16, \n",
        "#                    validation_data=(val_X, val_Y), shuffle=True, \n",
        "#                    verbose=2, callbacks = [early_stopping, checkpoint])\n",
        "\n",
        "#plt.plot(history.history[\"loss\"])\n",
        "#plt.plot(history.history[\"val_loss\"])"
      ],
      "execution_count": null,
      "outputs": []
    },
    {
      "cell_type": "code",
      "metadata": {
        "id": "66LS8v71lXxJ"
      },
      "source": [
        "#model.save(\"model.h5\")"
      ],
      "execution_count": null,
      "outputs": []
    },
    {
      "cell_type": "code",
      "metadata": {
        "id": "MiQQ925Kl5_f"
      },
      "source": [
        "# Execute if you want to upload a model to Collaboratory\n",
        "\n",
        "#from google.colab import files\n",
        "#uploaded = files.upload()\n",
        "\n",
        "#for fn in uploaded.keys():\n",
        "#    print('User uploaded file \"{name}\" with length {length} bytes'.format(\n",
        "#      name=fn, length=len(uploaded[fn])))"
      ],
      "execution_count": null,
      "outputs": []
    },
    {
      "cell_type": "code",
      "metadata": {
        "id": "I1A59K1pLdrM"
      },
      "source": [
        "#from tensorflow.keras.models import load_model\n",
        "\n",
        "# It's important to load the model after the training\n",
        "# The keras Checkpoint will save the best model in terms\n",
        "# of the validation loss in the specified path\n",
        "# model = load_model('Models/baseline_model')"
      ],
      "execution_count": null,
      "outputs": []
    },
    {
      "cell_type": "code",
      "metadata": {
        "colab": {
          "base_uri": "https://localhost:8080/",
          "height": 553
        },
        "id": "wMhyxhg8U6Ps",
        "scrolled": false,
        "outputId": "85d68a69-240c-4a62-fc23-f6ec6c3c9d9f"
      },
      "source": [
        "%matplotlib inline\n",
        "from math import sqrt\n",
        "\n",
        "from sklearn.metrics import mean_squared_error, mean_absolute_error, r2_score\n",
        "\n",
        "# We save the validation errors to later compare the models\n",
        "validation_baseline = model.predict(val_X).flatten()\n",
        "\n",
        "def evaluate_and_plot(model, evaluation_data, weibull_function=None):\n",
        "    \"\"\"\n",
        "    Generate scores dataframe and plot the RUL\n",
        "    \"\"\"\n",
        "    fig = plt.figure()\n",
        "    i = 1\n",
        "    score_df = pd.DataFrame({\"Method\": [\"MAE\", \"RMSE\", \"R2\"]})\n",
        "    for name_set, train_set, test_set in evaluation_data:\n",
        "        if weibull_function is None:\n",
        "            y_pred = model.predict(train_set).flatten()\n",
        "        else:\n",
        "            y_pred = [weibull_function(alpha, beta) \n",
        "                      for batch in model.predict(train_set) \n",
        "                      for beta, alpha in batch]\n",
        "        l = test_set[:,:,0].flatten()\n",
        "        # To validate we remove the right padding\n",
        "        y_true = np.ma.compressed(np.ma.masked_where(l==0, l))\n",
        "        y_pred = np.ma.compressed(np.ma.masked_where(l==0, y_pred))\n",
        "        score_mae = \"{0:.2f}\".format(mean_absolute_error(y_true, y_pred))\n",
        "        score_rmse = \"{0:.2f}\".format(sqrt(mean_squared_error(y_true, y_pred)))\n",
        "        score_r2 = \"{0:.3f}\".format(r2_score(y_true, y_pred))\n",
        "        score_df[name_set] = [score_mae, score_rmse, score_r2]\n",
        "        ax = fig.add_subplot(6, 1, i)\n",
        "        ax.title.set_text(name_set)\n",
        "        ax.title.set_fontsize(20)\n",
        "        i += 1\n",
        "        plt.plot(y_pred[0:2500])\n",
        "        plt.plot(y_true[0:2500])\n",
        "        plt.axis([0,2500,0,600])\n",
        "        ax = fig.add_subplot(6, 1, i)\n",
        "        i += 1\n",
        "        plt.plot(y_pred[2500:5000])\n",
        "        plt.plot(y_true[2500:5000])\n",
        "        plt.axis([0,2500,0,600])\n",
        "    plt.subplots_adjust(hspace=0.45)\n",
        "    plt.axis([0,2500,0,600])\n",
        "    fig.set_size_inches(15, i*2.2)\n",
        "    return score_df.T\n",
        "\n",
        "evaluate_and_plot(model,\n",
        "                  [(\"Train\", train_X, train_Y), \n",
        "                   (\"Validation\", val_X, val_Y), \n",
        "                   (\"Test\", test_X, test_Y)])"
      ],
      "execution_count": null,
      "outputs": [
        {
          "output_type": "error",
          "ename": "ValueError",
          "evalue": "ignored",
          "traceback": [
            "\u001b[0;31m---------------------------------------------------------------------------\u001b[0m",
            "\u001b[0;31mValueError\u001b[0m                                Traceback (most recent call last)",
            "\u001b[0;32m<ipython-input-11-ae800b86f2af>\u001b[0m in \u001b[0;36m<module>\u001b[0;34m()\u001b[0m\n\u001b[1;32m     49\u001b[0m                   [(\"Train\", train_X, train_Y), \n\u001b[1;32m     50\u001b[0m                    \u001b[0;34m(\u001b[0m\u001b[0;34m\"Validation\"\u001b[0m\u001b[0;34m,\u001b[0m \u001b[0mval_X\u001b[0m\u001b[0;34m,\u001b[0m \u001b[0mval_Y\u001b[0m\u001b[0;34m)\u001b[0m\u001b[0;34m,\u001b[0m\u001b[0;34m\u001b[0m\u001b[0;34m\u001b[0m\u001b[0m\n\u001b[0;32m---> 51\u001b[0;31m                    (\"Test\", test_X, test_Y)])\n\u001b[0m",
            "\u001b[0;32m<ipython-input-11-ae800b86f2af>\u001b[0m in \u001b[0;36mevaluate_and_plot\u001b[0;34m(model, evaluation_data, weibull_function)\u001b[0m\n\u001b[1;32m     25\u001b[0m         \u001b[0my_true\u001b[0m \u001b[0;34m=\u001b[0m \u001b[0mnp\u001b[0m\u001b[0;34m.\u001b[0m\u001b[0mma\u001b[0m\u001b[0;34m.\u001b[0m\u001b[0mcompressed\u001b[0m\u001b[0;34m(\u001b[0m\u001b[0mnp\u001b[0m\u001b[0;34m.\u001b[0m\u001b[0mma\u001b[0m\u001b[0;34m.\u001b[0m\u001b[0mmasked_where\u001b[0m\u001b[0;34m(\u001b[0m\u001b[0ml\u001b[0m\u001b[0;34m==\u001b[0m\u001b[0;36m0\u001b[0m\u001b[0;34m,\u001b[0m \u001b[0ml\u001b[0m\u001b[0;34m)\u001b[0m\u001b[0;34m)\u001b[0m\u001b[0;34m\u001b[0m\u001b[0;34m\u001b[0m\u001b[0m\n\u001b[1;32m     26\u001b[0m         \u001b[0my_pred\u001b[0m \u001b[0;34m=\u001b[0m \u001b[0mnp\u001b[0m\u001b[0;34m.\u001b[0m\u001b[0mma\u001b[0m\u001b[0;34m.\u001b[0m\u001b[0mcompressed\u001b[0m\u001b[0;34m(\u001b[0m\u001b[0mnp\u001b[0m\u001b[0;34m.\u001b[0m\u001b[0mma\u001b[0m\u001b[0;34m.\u001b[0m\u001b[0mmasked_where\u001b[0m\u001b[0;34m(\u001b[0m\u001b[0ml\u001b[0m\u001b[0;34m==\u001b[0m\u001b[0;36m0\u001b[0m\u001b[0;34m,\u001b[0m \u001b[0my_pred\u001b[0m\u001b[0;34m)\u001b[0m\u001b[0;34m)\u001b[0m\u001b[0;34m\u001b[0m\u001b[0;34m\u001b[0m\u001b[0m\n\u001b[0;32m---> 27\u001b[0;31m         \u001b[0mscore_mae\u001b[0m \u001b[0;34m=\u001b[0m \u001b[0;34m\"{0:.2f}\"\u001b[0m\u001b[0;34m.\u001b[0m\u001b[0mformat\u001b[0m\u001b[0;34m(\u001b[0m\u001b[0mmean_absolute_error\u001b[0m\u001b[0;34m(\u001b[0m\u001b[0my_true\u001b[0m\u001b[0;34m,\u001b[0m \u001b[0my_pred\u001b[0m\u001b[0;34m)\u001b[0m\u001b[0;34m)\u001b[0m\u001b[0;34m\u001b[0m\u001b[0;34m\u001b[0m\u001b[0m\n\u001b[0m\u001b[1;32m     28\u001b[0m         \u001b[0mscore_rmse\u001b[0m \u001b[0;34m=\u001b[0m \u001b[0;34m\"{0:.2f}\"\u001b[0m\u001b[0;34m.\u001b[0m\u001b[0mformat\u001b[0m\u001b[0;34m(\u001b[0m\u001b[0msqrt\u001b[0m\u001b[0;34m(\u001b[0m\u001b[0mmean_squared_error\u001b[0m\u001b[0;34m(\u001b[0m\u001b[0my_true\u001b[0m\u001b[0;34m,\u001b[0m \u001b[0my_pred\u001b[0m\u001b[0;34m)\u001b[0m\u001b[0;34m)\u001b[0m\u001b[0;34m)\u001b[0m\u001b[0;34m\u001b[0m\u001b[0;34m\u001b[0m\u001b[0m\n\u001b[1;32m     29\u001b[0m         \u001b[0mscore_r2\u001b[0m \u001b[0;34m=\u001b[0m \u001b[0;34m\"{0:.3f}\"\u001b[0m\u001b[0;34m.\u001b[0m\u001b[0mformat\u001b[0m\u001b[0;34m(\u001b[0m\u001b[0mr2_score\u001b[0m\u001b[0;34m(\u001b[0m\u001b[0my_true\u001b[0m\u001b[0;34m,\u001b[0m \u001b[0my_pred\u001b[0m\u001b[0;34m)\u001b[0m\u001b[0;34m)\u001b[0m\u001b[0;34m\u001b[0m\u001b[0;34m\u001b[0m\u001b[0m\n",
            "\u001b[0;32m/usr/local/lib/python3.7/dist-packages/sklearn/metrics/_regression.py\u001b[0m in \u001b[0;36mmean_absolute_error\u001b[0;34m(y_true, y_pred, sample_weight, multioutput)\u001b[0m\n\u001b[1;32m    176\u001b[0m     \"\"\"\n\u001b[1;32m    177\u001b[0m     y_type, y_true, y_pred, multioutput = _check_reg_targets(\n\u001b[0;32m--> 178\u001b[0;31m         y_true, y_pred, multioutput)\n\u001b[0m\u001b[1;32m    179\u001b[0m     \u001b[0mcheck_consistent_length\u001b[0m\u001b[0;34m(\u001b[0m\u001b[0my_true\u001b[0m\u001b[0;34m,\u001b[0m \u001b[0my_pred\u001b[0m\u001b[0;34m,\u001b[0m \u001b[0msample_weight\u001b[0m\u001b[0;34m)\u001b[0m\u001b[0;34m\u001b[0m\u001b[0;34m\u001b[0m\u001b[0m\n\u001b[1;32m    180\u001b[0m     output_errors = np.average(np.abs(y_pred - y_true),\n",
            "\u001b[0;32m/usr/local/lib/python3.7/dist-packages/sklearn/metrics/_regression.py\u001b[0m in \u001b[0;36m_check_reg_targets\u001b[0;34m(y_true, y_pred, multioutput, dtype)\u001b[0m\n\u001b[1;32m     83\u001b[0m     \"\"\"\n\u001b[1;32m     84\u001b[0m     \u001b[0mcheck_consistent_length\u001b[0m\u001b[0;34m(\u001b[0m\u001b[0my_true\u001b[0m\u001b[0;34m,\u001b[0m \u001b[0my_pred\u001b[0m\u001b[0;34m)\u001b[0m\u001b[0;34m\u001b[0m\u001b[0;34m\u001b[0m\u001b[0m\n\u001b[0;32m---> 85\u001b[0;31m     \u001b[0my_true\u001b[0m \u001b[0;34m=\u001b[0m \u001b[0mcheck_array\u001b[0m\u001b[0;34m(\u001b[0m\u001b[0my_true\u001b[0m\u001b[0;34m,\u001b[0m \u001b[0mensure_2d\u001b[0m\u001b[0;34m=\u001b[0m\u001b[0;32mFalse\u001b[0m\u001b[0;34m,\u001b[0m \u001b[0mdtype\u001b[0m\u001b[0;34m=\u001b[0m\u001b[0mdtype\u001b[0m\u001b[0;34m)\u001b[0m\u001b[0;34m\u001b[0m\u001b[0;34m\u001b[0m\u001b[0m\n\u001b[0m\u001b[1;32m     86\u001b[0m     \u001b[0my_pred\u001b[0m \u001b[0;34m=\u001b[0m \u001b[0mcheck_array\u001b[0m\u001b[0;34m(\u001b[0m\u001b[0my_pred\u001b[0m\u001b[0;34m,\u001b[0m \u001b[0mensure_2d\u001b[0m\u001b[0;34m=\u001b[0m\u001b[0;32mFalse\u001b[0m\u001b[0;34m,\u001b[0m \u001b[0mdtype\u001b[0m\u001b[0;34m=\u001b[0m\u001b[0mdtype\u001b[0m\u001b[0;34m)\u001b[0m\u001b[0;34m\u001b[0m\u001b[0;34m\u001b[0m\u001b[0m\n\u001b[1;32m     87\u001b[0m \u001b[0;34m\u001b[0m\u001b[0m\n",
            "\u001b[0;32m/usr/local/lib/python3.7/dist-packages/sklearn/utils/validation.py\u001b[0m in \u001b[0;36mcheck_array\u001b[0;34m(array, accept_sparse, accept_large_sparse, dtype, order, copy, force_all_finite, ensure_2d, allow_nd, ensure_min_samples, ensure_min_features, warn_on_dtype, estimator)\u001b[0m\n\u001b[1;32m    576\u001b[0m         \u001b[0;32mif\u001b[0m \u001b[0mforce_all_finite\u001b[0m\u001b[0;34m:\u001b[0m\u001b[0;34m\u001b[0m\u001b[0;34m\u001b[0m\u001b[0m\n\u001b[1;32m    577\u001b[0m             _assert_all_finite(array,\n\u001b[0;32m--> 578\u001b[0;31m                                allow_nan=force_all_finite == 'allow-nan')\n\u001b[0m\u001b[1;32m    579\u001b[0m \u001b[0;34m\u001b[0m\u001b[0m\n\u001b[1;32m    580\u001b[0m     \u001b[0;32mif\u001b[0m \u001b[0mensure_min_samples\u001b[0m \u001b[0;34m>\u001b[0m \u001b[0;36m0\u001b[0m\u001b[0;34m:\u001b[0m\u001b[0;34m\u001b[0m\u001b[0;34m\u001b[0m\u001b[0m\n",
            "\u001b[0;32m/usr/local/lib/python3.7/dist-packages/sklearn/utils/validation.py\u001b[0m in \u001b[0;36m_assert_all_finite\u001b[0;34m(X, allow_nan, msg_dtype)\u001b[0m\n\u001b[1;32m     58\u001b[0m                     \u001b[0mmsg_err\u001b[0m\u001b[0;34m.\u001b[0m\u001b[0mformat\u001b[0m\u001b[0;34m\u001b[0m\u001b[0;34m\u001b[0m\u001b[0m\n\u001b[1;32m     59\u001b[0m                     (type_err,\n\u001b[0;32m---> 60\u001b[0;31m                      msg_dtype if msg_dtype is not None else X.dtype)\n\u001b[0m\u001b[1;32m     61\u001b[0m             )\n\u001b[1;32m     62\u001b[0m     \u001b[0;31m# for object dtype data, we only check for NaNs (GH-13254)\u001b[0m\u001b[0;34m\u001b[0m\u001b[0;34m\u001b[0m\u001b[0;34m\u001b[0m\u001b[0m\n",
            "\u001b[0;31mValueError\u001b[0m: Input contains NaN, infinity or a value too large for dtype('float64')."
          ]
        },
        {
          "output_type": "display_data",
          "data": {
            "image/png": "[encoded data removed]",
            "text/plain": [
              "<Figure size 432x288 with 4 Axes>"
            ]
          },
          "metadata": {
            "tags": [],
            "needs_background": "light"
          }
        }
      ]
    },
    {
      "cell_type": "markdown",
      "metadata": {
        "id": "FjWAwa9oI5hO"
      },
      "source": [
        "## Adapting to WTTE-RNN"
      ]
    },
    {
      "cell_type": "code",
      "metadata": {
        "colab": {
          "base_uri": "https://localhost:8080/",
          "height": 542
        },
        "id": "oRW6arr4Q40k",
        "outputId": "6de48d81-2751-485b-9f66-656dfaab7057"
      },
      "source": [
        "# Install wtte package from Martinsson\n",
        "\n",
        "!pip install wtte"
      ],
      "execution_count": null,
      "outputs": [
        {
          "output_type": "stream",
          "text": [
            "Collecting wtte\n",
            "  Downloading https://files.pythonhosted.org/packages/95/0e/8affc53f47d4ceb69fc80484fd87ad886c6cab7f4ce0add38076b6092d76/wtte-1.1.1-py2.py3-none-any.whl\n",
            "Requirement already satisfied: numpy in /usr/local/lib/python3.7/dist-packages (from wtte) (1.19.5)\n",
            "Requirement already satisfied: pandas in /usr/local/lib/python3.7/dist-packages (from wtte) (1.1.5)\n",
            "Requirement already satisfied: keras>=2.0 in /usr/local/lib/python3.7/dist-packages (from wtte) (2.4.3)\n",
            "Collecting six==1.10.0\n",
            "  Downloading https://files.pythonhosted.org/packages/c8/0a/b6723e1bc4c516cb687841499455a8505b44607ab535be01091c0f24f079/six-1.10.0-py2.py3-none-any.whl\n",
            "Requirement already satisfied: scipy in /usr/local/lib/python3.7/dist-packages (from wtte) (1.4.1)\n",
            "Requirement already satisfied: pytz>=2017.2 in /usr/local/lib/python3.7/dist-packages (from pandas->wtte) (2018.9)\n",
            "Requirement already satisfied: python-dateutil>=2.7.3 in /usr/local/lib/python3.7/dist-packages (from pandas->wtte) (2.8.1)\n",
            "Requirement already satisfied: pyyaml in /usr/local/lib/python3.7/dist-packages (from keras>=2.0->wtte) (3.13)\n",
            "Requirement already satisfied: h5py in /usr/local/lib/python3.7/dist-packages (from keras>=2.0->wtte) (2.10.0)\n",
            "\u001b[31mERROR: tensorflow 2.4.1 has requirement six~=1.15.0, but you'll have six 1.10.0 which is incompatible.\u001b[0m\n",
            "\u001b[31mERROR: google-colab 1.0.0 has requirement six~=1.15.0, but you'll have six 1.10.0 which is incompatible.\u001b[0m\n",
            "\u001b[31mERROR: google-api-python-client 1.12.8 has requirement six<2dev,>=1.13.0, but you'll have six 1.10.0 which is incompatible.\u001b[0m\n",
            "\u001b[31mERROR: google-api-core 1.26.1 has requirement six>=1.13.0, but you'll have six 1.10.0 which is incompatible.\u001b[0m\n",
            "\u001b[31mERROR: dm-tree 0.1.5 has requirement six>=1.12.0, but you'll have six 1.10.0 which is incompatible.\u001b[0m\n",
            "\u001b[31mERROR: datascience 0.10.6 has requirement folium==0.2.1, but you'll have folium 0.8.3 which is incompatible.\u001b[0m\n",
            "\u001b[31mERROR: albumentations 0.1.12 has requirement imgaug<0.2.7,>=0.2.5, but you'll have imgaug 0.2.9 which is incompatible.\u001b[0m\n",
            "Installing collected packages: six, wtte\n",
            "  Found existing installation: six 1.15.0\n",
            "    Uninstalling six-1.15.0:\n",
            "      Successfully uninstalled six-1.15.0\n",
            "Successfully installed six-1.10.0 wtte-1.1.1\n"
          ],
          "name": "stdout"
        },
        {
          "output_type": "display_data",
          "data": {
            "application/vnd.colab-display-data+json": {
              "pip_warning": {
                "packages": [
                  "six"
                ]
              }
            }
          },
          "metadata": {
            "tags": []
          }
        }
      ]
    },
    {
      "cell_type": "code",
      "metadata": {
        "id": "DSxhMairNHps"
      },
      "source": [
        "# Loss and activation functions from Martinsson\n",
        "# These are not used in the final version because \n",
        "# the wtte package has useful regularization tools\n",
        "\n",
        "def weibull_loglik_discrete(y_true, y_pred, epsilon=K.epsilon()):\n",
        "    y = y_true[..., 0]\n",
        "    u = y_true[..., 1]\n",
        "    a = y_pred[..., 0]\n",
        "    b = y_pred[..., 1]\n",
        "    \n",
        "    hazard0 = K.pow((y + epsilon) / a, b)\n",
        "    hazard1 = K.pow((y + 1.0) / a, b)\n",
        "\n",
        "    loss = u * K.log(K.exp(hazard1 - hazard0) - (1.0 - epsilon)) - hazard1\n",
        "    return -loss\n",
        "\n",
        "def activation_weibull(y_true):\n",
        "    a = y_true[..., 0]\n",
        "    b = y_true[..., 1]\n",
        "    \n",
        "    a = K.exp(a)\n",
        "    b = K.sigmoid(b)\n",
        "    return K.stack([a, b], axis=-1)"
      ],
      "execution_count": null,
      "outputs": []
    },
    {
      "cell_type": "code",
      "metadata": {
        "id": "HMkddBrAqbGi"
      },
      "source": [
        "from keras.layers import Masking\n",
        "from keras.layers.core import Activation\n",
        "from keras.models import Sequential\n",
        "from keras.layers import Dense, LSTM, TimeDistributed, Lambda\n",
        "from keras.callbacks import EarlyStopping, TerminateOnNaN, ModelCheckpoint\n",
        "import wtte.weibull as weibull\n",
        "import wtte.wtte as wtte\n",
        "\n",
        "# Since we use a lambda in the last layer the model \n",
        "# is not saved well in keras, instead we save the weights.\n",
        "# This requires compiling the model to load the weights\n",
        "baseline_wtte_path = \"baseline_wtte_model_weights\"\n",
        "# Callbacks\n",
        "early_stopping = EarlyStopping(monitor='val_loss', \n",
        "                               min_delta=0, \n",
        "                               patience=30, \n",
        "                               verbose=0, \n",
        "                               mode='min')\n",
        "checkpoint = ModelCheckpoint(baseline_wtte_path, \n",
        "                             monitor='val_loss', \n",
        "                             save_best_only=True, \n",
        "                             save_weights_only=True, \n",
        "                             mode='min', \n",
        "                             verbose=0)\n",
        "\n",
        "nb_features = train_X.shape[2]\n",
        "nb_out = train_Y.shape[1]\n",
        "\n",
        "model = Sequential()\n",
        "\n",
        "model.add(Masking(mask_value=0.,\n",
        "                  input_shape=(max_batch_len, nb_features)))\n",
        "model.add(LSTM(\n",
        "         input_shape=(None, nb_features),\n",
        "         units=50,\n",
        "         recurrent_dropout=0.01,\n",
        "         return_sequences=True))\n",
        "model.add(LSTM(\n",
        "         input_shape=(None, nb_features),\n",
        "         units=40,\n",
        "         recurrent_dropout=0.01,\n",
        "         return_sequences=True))\n",
        "model.add(LSTM(\n",
        "         input_shape=(None, nb_features),\n",
        "         units=30,\n",
        "         recurrent_dropout=0.01,\n",
        "         return_sequences=True))\n",
        "\n",
        "model.add(TimeDistributed(Dense(2)))\n",
        "# uncomment this line and comment the next to use \n",
        "#activation_weibull function:\n",
        "#model.add(Activation(activation_weibull))\n",
        "model.add(Lambda(wtte.output_lambda, \n",
        "                 arguments={# Initialization value around it's scale\n",
        "                            \"init_alpha\": np.nanmean(train_Y_wtte[:,0]), \n",
        "                            # Set a maximum\n",
        "                            \"max_beta_value\": 10.0\n",
        "                           },\n",
        "                ))\n",
        "# Same for the loss \"weibull_loglik_discrete\"\n",
        "# model.compile(loss=weibull_loglik_discrete, optimizer='rmsprop')\n",
        "# We use clipping on the loss\n",
        "loss = wtte.Loss(kind='discrete', clip_prob=1e-5).loss_function\n",
        "\n",
        "\n",
        "# 옵타마이저 참고 : https://wikidocs.net/36033\n",
        "# 현아 : RMS 쓸거면\n",
        "#model.compile(loss=loss, optimizer=RMSprop(lr=0.05, rho=0.9, epsilon=1e-06))\n",
        "#model.compile(loss=loss, optimizer='rmsprop')\n",
        "\n",
        "# 현아 : Nadam 쓸거면\n",
        "#model.compile(loss=loss,optimizer=Nadam(lr=0.05,beta_1=0.9,beta_2=0.999,epsilon=1e-08,schedule_decay=0.004))\n",
        "\n",
        "# 현아 : Adam 쓸거면\n",
        "model.compile(loss=loss, optimizer=Adam(lr=0.05, beta_1=0.9, beta_2=0.999, epsilon=1e-08, decay=0.0, amsgrad=False))\n",
        "\n",
        "# 영석 : 로그라이크,,?\n",
        "#model.compile(loss=weibull_loglik_discrete, optimizer=RMSprop(lr=0.1, rho=0.9, epsilon=1e-06))\n"
      ],
      "execution_count": null,
      "outputs": []
    },
    {
      "cell_type": "code",
      "metadata": {
        "colab": {
          "base_uri": "https://localhost:8080/",
          "height": 12495
        },
        "id": "lUPfSo7YqurR",
        "scrolled": false,
        "outputId": "15a50f46-63cb-46a6-a861-e91b41c015a4"
      },
      "source": [
        "print(model.summary())\n",
        "\n",
        "# fit the network\n",
        "history = model.fit(train_X, train_Y_wtte, epochs=48, batch_size=200, \n",
        "                    validation_data=(val_X, val_Y_wtte), shuffle=True, verbose=2,\n",
        "                    callbacks = [early_stopping, checkpoint, TerminateOnNaN()])\n",
        "\n",
        "# list all data in history\n",
        "print(history.history.keys())"
      ],
      "execution_count": null,
      "outputs": [
        {
          "output_type": "stream",
          "text": [
            "Model: \"sequential_5\"\n",
            "_________________________________________________________________\n",
            "Layer (type)                 Output Shape              Param #   \n",
            "=================================================================\n",
            "masking_4 (Masking)          (None, 311, 4)            0         \n",
            "_________________________________________________________________\n",
            "lstm_9 (LSTM)                (None, 311, 50)           11000     \n",
            "_________________________________________________________________\n",
            "lstm_10 (LSTM)               (None, 311, 40)           14560     \n",
            "_________________________________________________________________\n",
            "lstm_11 (LSTM)               (None, 311, 30)           8520      \n",
            "_________________________________________________________________\n",
            "time_distributed_4 (TimeDist (None, 311, 2)            62        \n",
            "_________________________________________________________________\n",
            "lambda_3 (Lambda)            (None, 311, 2)            0         \n",
            "=================================================================\n",
            "Total params: 34,142\n",
            "Trainable params: 34,142\n",
            "Non-trainable params: 0\n",
            "_________________________________________________________________\n",
            "None\n",
            "Train on 534 samples, validate on 134 samples\n",
            "Epoch 1/48\n",
            " - 3s - loss: 5.9423 - val_loss: 5.1989\n",
            "Epoch 2/48\n",
            " - 2s - loss: 5.5161 - val_loss: 5.0801\n",
            "Epoch 3/48\n",
            " - 2s - loss: 5.1271 - val_loss: 5.1649\n",
            "Epoch 4/48\n",
            " - 2s - loss: 5.1786 - val_loss: 5.1596\n",
            "Epoch 5/48\n",
            " - 2s - loss: 5.1720 - val_loss: 5.1917\n",
            "Epoch 6/48\n",
            " - 3s - loss: 5.1905 - val_loss: 5.1500\n",
            "Epoch 7/48\n",
            " - 2s - loss: 5.1645 - val_loss: 5.1496\n",
            "Epoch 8/48\n",
            " - 3s - loss: 5.1604 - val_loss: 5.1392\n",
            "Epoch 9/48\n",
            " - 3s - loss: 5.1524 - val_loss: 5.1379\n",
            "Epoch 10/48\n",
            " - 3s - loss: 5.1491 - val_loss: 5.1346\n",
            "Epoch 11/48\n",
            " - 3s - loss: 5.1426 - val_loss: 5.1316\n",
            "Epoch 12/48\n",
            " - 3s - loss: 5.1376 - val_loss: 5.1292\n",
            "Epoch 13/48\n",
            " - 3s - loss: 5.1318 - val_loss: 5.1217\n",
            "Epoch 14/48\n",
            " - 3s - loss: 5.1222 - val_loss: 5.1016\n",
            "Epoch 15/48\n",
            " - 3s - loss: 5.1063 - val_loss: 5.0741\n",
            "Epoch 16/48\n",
            " - 3s - loss: 5.0715 - val_loss: 4.9872\n",
            "Epoch 17/48\n",
            " - 3s - loss: 5.1496 - val_loss: 5.1515\n",
            "Epoch 18/48\n",
            " - 3s - loss: 5.1302 - val_loss: 5.1439\n",
            "Epoch 19/48\n",
            " - 3s - loss: 5.1456 - val_loss: 5.1110\n",
            "Epoch 20/48\n",
            " - 3s - loss: 5.1039 - val_loss: 5.0852\n",
            "Epoch 21/48\n",
            " - 3s - loss: 5.0709 - val_loss: 5.0122\n",
            "Epoch 22/48\n",
            " - 3s - loss: 5.0156 - val_loss: 4.8849\n",
            "Epoch 23/48\n",
            " - 3s - loss: 4.9472 - val_loss: 5.2232\n",
            "Epoch 24/48\n",
            " - 3s - loss: 5.1826 - val_loss: 5.1887\n",
            "Epoch 25/48\n",
            " - 3s - loss: 5.1790 - val_loss: 5.1229\n",
            "Epoch 26/48\n",
            " - 3s - loss: 5.1278 - val_loss: 5.1542\n",
            "Epoch 27/48\n",
            " - 3s - loss: 5.1495 - val_loss: 5.1461\n",
            "Epoch 28/48\n",
            " - 3s - loss: 5.1370 - val_loss: 5.1225\n",
            "Epoch 29/48\n",
            " - 3s - loss: 5.1204 - val_loss: 5.1298\n",
            "Epoch 30/48\n",
            " - 3s - loss: 5.1276 - val_loss: 5.1230\n",
            "Epoch 31/48\n",
            " - 3s - loss: 5.1213 - val_loss: 5.1226\n",
            "Epoch 32/48\n",
            " - 3s - loss: 5.1203 - val_loss: 5.1233\n",
            "Epoch 33/48\n",
            " - 3s - loss: 5.1191 - val_loss: 5.1242\n",
            "Epoch 34/48\n",
            " - 3s - loss: 5.1184 - val_loss: 5.1212\n",
            "Epoch 35/48\n",
            " - 3s - loss: 5.1179 - val_loss: 5.1200\n",
            "Epoch 36/48\n",
            " - 3s - loss: 5.1171 - val_loss: 5.1194\n",
            "Epoch 37/48\n",
            " - 3s - loss: 5.1162 - val_loss: 5.1194\n",
            "Epoch 38/48\n",
            " - 3s - loss: 5.1154 - val_loss: 5.1188\n",
            "Epoch 39/48\n",
            " - 3s - loss: 5.1149 - val_loss: 5.1189\n",
            "Epoch 40/48\n",
            " - 3s - loss: 5.1147 - val_loss: 5.1182\n",
            "Epoch 41/48\n",
            " - 3s - loss: 5.1138 - val_loss: 5.1184\n",
            "Epoch 42/48\n",
            " - 3s - loss: 5.1133 - val_loss: 5.1174\n",
            "Epoch 43/48\n",
            " - 3s - loss: 5.1125 - val_loss: 5.1171\n",
            "Epoch 44/48\n",
            " - 3s - loss: 5.1126 - val_loss: 5.1167\n",
            "Epoch 45/48\n",
            " - 3s - loss: 5.1116 - val_loss: 5.1173\n",
            "Epoch 46/48\n",
            " - 3s - loss: 5.1116 - val_loss: 5.1167\n",
            "Epoch 47/48\n",
            " - 3s - loss: 5.1111 - val_loss: 5.1156\n",
            "Epoch 48/48\n",
            " - 3s - loss: 5.1101 - val_loss: 5.1150\n",
            "dict_keys(['val_loss', 'loss'])\n"
          ],
          "name": "stdout"
        }
      ]
    },
    {
      "cell_type": "code",
      "metadata": {
        "colab": {
          "base_uri": "https://localhost:8080/",
          "height": 282
        },
        "id": "7etOF8LWu7c7",
        "scrolled": true,
        "outputId": "306ce005-fbbb-472b-b56f-1a89ff9c9110"
      },
      "source": [
        "%matplotlib inline\n",
        "\n",
        "\n",
        "plt.plot(history.history[\"loss\"])\n",
        "plt.plot(history.history[\"val_loss\"])"
      ],
      "execution_count": null,
      "outputs": [
        {
          "output_type": "execute_result",
          "data": {
            "text/plain": [
              "[<matplotlib.lines.Line2D at 0x271fad51240>]"
            ]
          },
          "metadata": {
            "tags": []
          },
          "execution_count": 33
        },
        {
          "output_type": "display_data",
          "data": {
            "image/png": "[encoded data removed]",
            "text/plain": [
              "<Figure size 432x288 with 1 Axes>"
            ]
          },
          "metadata": {
            "tags": [],
            "needs_background": "light"
          }
        }
      ]
    },
    {
      "cell_type": "code",
      "metadata": {
        "id": "-RlPNMRrmLww",
        "scrolled": true
      },
      "source": [
        "# Compile model first to load weights\n",
        "\n",
        "model.load_weights(\"baseline_wtte_model_weights\")"
      ],
      "execution_count": null,
      "outputs": []
    },
    {
      "cell_type": "markdown",
      "metadata": {
        "id": "27xRa-Vyu8vE"
      },
      "source": [
        "### Weibull Methods\n",
        "\n",
        "$\\mu = \\beta\\Gamma(1 + \\alpha^{-1})$\n",
        "\n",
        "$\\sigma^2 = \\beta^2[\\Gamma(1 + 2\\alpha^{-1}) - \\Gamma^2(1 + \\alpha^{-1})]$\n",
        "\n",
        "$mode = \\beta\\frac{\\alpha-1}{\\alpha}^{1/\\alpha}$\n",
        "\n",
        "Inverse CDF $ = \\beta (-\\log(1 - x))^\\frac{1}{\\alpha} $ when $ 0<x<1 $"
      ]
    },
    {
      "cell_type": "code",
      "metadata": {
        "id": "YKpk1J5su8vE"
      },
      "source": [
        "from math import gamma, log, sqrt\n",
        "\n",
        "def mean_weibull(alpha, beta):\n",
        "    return beta*gamma(1 + 1./alpha)\n",
        "\n",
        "def mode_weibull(alpha, beta):\n",
        "    return beta*((alpha-1)/alpha)**(1./alpha) if alpha > 1 else 0\n",
        "\n",
        "def median_weibull(alpha, beta):\n",
        "    return beta*(log(2)**(1./alpha))\n",
        "\n",
        "def var_weibull(alpha, beta):\n",
        "    return beta**2*(gamma(1 + 2./alpha) - gamma(1 + 1./alpha)**2)\n",
        "\n",
        "def pdf_weibull(x, alpha, beta):\n",
        "    return (alpha/beta)*(x/beta)**(alpha - 1)*np.exp(-(x/beta)**alpha)\n",
        "\n",
        "def inverse_cdf_weibull(x, alpha, beta):\n",
        "    return beta*np.power((-np.log(1.-x)), 1./alpha)\n",
        "\n",
        "def survival_weibull(x, alpha, beta):\n",
        "    return np.e**-((x/beta)**alpha)"
      ],
      "execution_count": null,
      "outputs": []
    },
    {
      "cell_type": "markdown",
      "metadata": {
        "id": "X6I_MzcTu8vG"
      },
      "source": [
        "### Mean, Mode and Median"
      ]
    },
    {
      "cell_type": "markdown",
      "metadata": {
        "id": "UarLoItB7N9i"
      },
      "source": [
        "\n",
        "\n",
        "![](https://upload.wikimedia.org/wikipedia/commons/thumb/3/33/Visualisation_mode_median_mean.svg/150px-Visualisation_mode_median_mean.svg.png)"
      ]
    },
    {
      "cell_type": "code",
      "metadata": {
        "id": "tjisSq-slXxO"
      },
      "source": [
        ""
      ],
      "execution_count": null,
      "outputs": []
    },
    {
      "cell_type": "code",
      "metadata": {
        "id": "ktJD8_Tbu8vH",
        "scrolled": true,
        "outputId": "8b244eb0-ec68-4f2e-de58-2b50823f1673"
      },
      "source": [
        "%matplotlib inline\n",
        "\n",
        "print(\"Mode\")\n",
        "print (evaluate_and_plot(model,\n",
        "                        [(\"Train\", train_X, train_Y_wtte), \n",
        "                         (\"Validation\", val_X, val_Y_wtte), \n",
        "                         (\"Test\", test_X, test_Y_wtte)],\n",
        "                        weibull_function = mode_weibull))\n",
        "\n",
        "# comment the next line to visualise the plot for the mode\n",
        "plt.close()\n",
        "\n",
        "print(\"\\nMedian\")\n",
        "print (evaluate_and_plot(model,\n",
        "                        [(\"Train\", train_X, train_Y_wtte), \n",
        "                         (\"Validation\", val_X, val_Y_wtte), \n",
        "                         (\"Test\", test_X, test_Y_wtte)],\n",
        "                        weibull_function = median_weibull))\n",
        "\n",
        "# comment the next line to visualise the plot for the median\n",
        "plt.close()\n",
        "\n",
        "# We save the validation errors to later compare the models\n",
        "validation_wtte = [mean_weibull(alpha, beta) \n",
        "                   for batch in model.predict(val_X) \n",
        "                   for beta, alpha in batch]\n",
        "\n",
        "print(\"\\nMean\")\n",
        "print(evaluate_and_plot(model,\n",
        "                        [(\"Train\", train_X, train_Y_wtte), \n",
        "                         (\"Validation\", val_X, val_Y_wtte), \n",
        "                         (\"Test\", test_X, test_Y_wtte)],\n",
        "                        weibull_function = mean_weibull))"
      ],
      "execution_count": null,
      "outputs": [
        {
          "output_type": "stream",
          "text": [
            "Mode\n",
            "                 0       1       2\n",
            "Method         MAE    RMSE      R2\n",
            "Train       122.02  143.87  -2.563\n",
            "Validation  119.60  140.77  -2.595\n",
            "Test        116.93  137.32  -2.637\n",
            "\n",
            "Median\n",
            "                0      1      2\n",
            "Method        MAE   RMSE     R2\n",
            "Train       57.50  73.09  0.080\n",
            "Validation  54.78  70.30  0.104\n",
            "Test        50.12  64.78  0.191\n",
            "\n",
            "Mean\n",
            "                0       1       2\n",
            "Method        MAE    RMSE      R2\n",
            "Train       61.53  160.86  -3.454\n",
            "Validation  62.45  163.19  -3.831\n",
            "Test        67.70  159.97  -3.936\n"
          ],
          "name": "stdout"
        },
        {
          "output_type": "display_data",
          "data": {
            "image/png": "[encoded data removed]",
            "text/plain": [
              "<Figure size 1080x1108.8 with 6 Axes>"
            ]
          },
          "metadata": {
            "tags": [],
            "needs_background": "light"
          }
        }
      ]
    },
    {
      "cell_type": "markdown",
      "metadata": {
        "id": "qLl9ZoFbu8vM"
      },
      "source": [
        "### Evolution of the pdf through the cycles of an engine (PLOT)"
      ]
    },
    {
      "cell_type": "code",
      "metadata": {
        "id": "UnyNc4Nfu8vN"
      },
      "source": [
        "import random\n",
        "\n",
        "import seaborn as sns\n",
        "\n",
        "\n",
        "random.seed(SEED)\n",
        "lot = random.sample(train_X, 3) \n",
        "random.seed(SEED)\n",
        "lot += random.sample(val_X, 3)\n",
        "random.seed(SEED)\n",
        "lot += random.sample(test_X, 3)\n",
        "\n",
        "palette = list(reversed(sns.color_palette(\"RdBu_r\", 250)))\n",
        "\n",
        "fig = plt.figure()\n",
        "j = 1\n",
        "for batch in lot:\n",
        "    size = batch[~np.all(batch == 0, axis=1)].shape[0]\n",
        "    y_pred_wtte = model.predict(batch.reshape(1, max_batch_len, nb_features))[0]\n",
        "    y_pred_wtte = y_pred_wtte[:size]\n",
        "    x = np.arange(1, 400.)\n",
        "    \n",
        "    freq = 5\n",
        "    ax = fig.add_subplot(3, 3, j)\n",
        "    \n",
        "    i=0\n",
        "    for beta, alpha in y_pred_wtte[0::freq][2:]:\n",
        "        mean = mode_weibull(alpha, beta)\n",
        "        color=palette[int(mean)] if i < len(palette) else palette[-1]\n",
        "        plt.plot(x, pdf_weibull(x, alpha, beta), color=color)\n",
        "        i += 1\n",
        "    ax.set_ylim([0, 0.07])\n",
        "    ax.set_xlim([0, 300])\n",
        "    ax.set_yticklabels([])\n",
        "    if j == 2:\n",
        "        ax.title.set_text(\"Train\")\n",
        "    elif j == 5:\n",
        "        ax.title.set_text(\"Validation\")\n",
        "    elif j == 8:\n",
        "        ax.title.set_text(\"Test\")\n",
        "    j += 1\n",
        "\n",
        "plt.subplots_adjust(wspace=0.15, hspace=0.25)\n",
        "fig.set_size_inches(10,10)"
      ],
      "execution_count": null,
      "outputs": []
    },
    {
      "cell_type": "markdown",
      "metadata": {
        "id": "JY1DNvqWu8vQ"
      },
      "source": [
        "### Confidence Interval of the Weibull Distribution"
      ]
    },
    {
      "cell_type": "code",
      "metadata": {
        "id": "ivnh6m3Hu8vR"
      },
      "source": [
        "%matplotlib inline\n",
        "\n",
        "from scipy.stats import dweibull\n",
        "\n",
        "batch = lot[0]\n",
        "size = batch[~np.all(batch == 0, axis=1)].shape[0]\n",
        "y_pred_wtte = model.predict(batch.reshape(1, max_batch_len, nb_features))[0]\n",
        "y_pred_wtte = y_pred_wtte[:size]\n",
        "\n",
        "fig = plt.figure()\n",
        "fig.add_subplot(1,1,1)\n",
        "for beta, alpha in y_pred_wtte[0::20]:\n",
        "    x = np.arange(1, 300.)\n",
        "    mean = mean_weibull(alpha, beta)\n",
        "    sigma = np.sqrt(var_weibull(alpha, beta))\n",
        "    plt.plot(x, pdf_weibull(x, alpha, beta), color=palette[int(mean)])\n",
        "    # alpha is the shape parameter\n",
        "    conf = dweibull.interval(0.95, alpha, loc=mean, scale=sigma)\n",
        "    plt.fill([conf[0]] + list(np.arange(conf[0], conf[1])) + [conf[1]], \n",
        "             [0] + list(pdf_weibull(np.arange(conf[0], conf[1]), alpha, beta)) + [0], \n",
        "             color=palette[int(mean)], alpha=0.5)\n",
        "\n",
        "axes = plt.gca()\n",
        "axes.set_ylim([0., 0.06])\n",
        "axes.set_xlim([0., 300.])\n",
        "fig.set_size_inches(10,5)"
      ],
      "execution_count": null,
      "outputs": []
    },
    {
      "cell_type": "markdown",
      "metadata": {
        "id": "Kv4GZtNGu8vU"
      },
      "source": [
        "### Evolution of the pdf through the cycles of an engine (GIFs)"
      ]
    },
    {
      "cell_type": "code",
      "metadata": {
        "id": "JGbUfjh5xwZc"
      },
      "source": [
        "import sys\n",
        "import random\n",
        "from math import gamma\n",
        "\n",
        "from matplotlib.animation import FuncAnimation\n",
        "from scipy.stats import dweibull\n",
        "\n",
        "\n",
        "def generate_gif(y_pred, y_true, path, freq=2):\n",
        "    # remove mask if exists \n",
        "    y_true = y_true[y_true != 0]\n",
        "    y_pred = y_pred[:y_true.shape[0]]\n",
        "\n",
        "    frames = zip(y_true, y_pred)\n",
        "\n",
        "    # pad, w_pad, h_pad, and rect\n",
        "    fig = plt.figure()\n",
        "    global ax1, ax2\n",
        "    ax1 = fig.add_subplot(1,2,1)\n",
        "    ax2 = fig.add_subplot(1,2,2)\n",
        "    fig.set_tight_layout(True)\n",
        "    x = np.arange(1, 300.)\n",
        "    beta, alpha = y_pred[0]\n",
        "    line1, = ax1.plot(x, pdf_weibull(x, alpha, beta))\n",
        "    global i, acc_y_true, acc_y_pred\n",
        "    i = 0\n",
        "    predict_mean = mean_weibull(alpha, beta)\n",
        "    ax2.plot(i, y_true[0], 'bo', label=\"True\", ms=2.5)\n",
        "    ax2.plot(i, predict_mean, 'o', color=\"orange\", label=\"Predicted\", ms=2.5)\n",
        "    ax2.legend(loc=\"upper right\")\n",
        "    # limits\n",
        "    ax1.set_ylim([0, 0.07])\n",
        "    ax2.set_ylim([0, y_true[0] + 10])\n",
        "    ax2.set_xlim([0, len(frames)/freq + 2])\n",
        "    ax2.set_xticklabels([])\n",
        "    # acc values\n",
        "    acc_y_true = []\n",
        "    acc_y_pred = []\n",
        "    \n",
        "    def update(instant):\n",
        "        y_true_t, y_pred_t = instant\n",
        "        beta, alpha = y_pred_t\n",
        "        # print y_true\n",
        "        pdf = pdf_weibull(x, alpha, beta)\n",
        "        line1.set_ydata(pdf)\n",
        "        global i, acc_y_true, acc_y_pred\n",
        "        i += 1\n",
        "        mean = mean_weibull(alpha, beta)\n",
        "        sigma = np.sqrt(var_weibull(alpha, beta))\n",
        "        acc_y_pred += [mean]\n",
        "        acc_y_true += [y_true_t]\n",
        "        ax2.plot(range(len(acc_y_true)), acc_y_true, 'b', label=\"True\")\n",
        "        ax2.plot(range(len(acc_y_pred)), acc_y_pred, color=\"orange\", label=\"Predicted\")\n",
        "        conf = dweibull.interval(0.95, alpha, loc=mean, scale=sigma)\n",
        "        ax1.set_title(\"PDF Weibull Distrib. (Mean: \" + \"{0:.1f}\".format(mean)\n",
        "                     + \", Std: \" + \"{0:.1f}\".format(sigma) + \")\"\n",
        "                     + \" CI 95%: [{0:.1f}, {1:.1f}]\".format(*conf))\n",
        "        ax2.set_title(\"Real RUL: \" + str(y_true_t) + \" cycles\")\n",
        "\n",
        "    fig.set_size_inches(15,4)\n",
        "    anim = FuncAnimation(fig, update, frames=frames[0::freq])\n",
        "    anim.save(path, writer=\"imagemagick\")\n",
        "    plt.close()\n",
        "\n",
        "random.seed(SEED)\n",
        "batch_X, batch_Y = random.choice(zip(train_X, train_Y))\n",
        "y_pred_wtte = model.predict(batch_X.reshape(1, max_batch_len, nb_features))[0]\n",
        "gif_path = \"Images/train_engine_sample.gif\"\n",
        "generate_gif(y_pred_wtte, batch_Y, gif_path, freq=2)\n",
        "\n",
        "print \"Train Sample\"\n",
        "from IPython.display import HTML\n",
        "HTML('<img src=\"'+ gif_path + '\">')"
      ],
      "execution_count": null,
      "outputs": []
    },
    {
      "cell_type": "code",
      "metadata": {
        "id": "cFPcqHBvu8vX"
      },
      "source": [
        "random.seed(SEED)\n",
        "batch_X, batch_Y = random.choice(zip(val_X, val_Y))\n",
        "y_pred_wtte = model.predict(batch_X.reshape(1, max_batch_len, nb_features))[0]\n",
        "gif_path = \"Images/val_engine_sample.gif\"\n",
        "generate_gif(y_pred_wtte, batch_Y, gif_path, freq=2)\n",
        "\n",
        "print \"Validation Sample\"\n",
        "from IPython.display import HTML\n",
        "HTML('<img src=\"'+ gif_path + '\">')"
      ],
      "execution_count": null,
      "outputs": []
    },
    {
      "cell_type": "code",
      "metadata": {
        "id": "1-hvgZiVu8va"
      },
      "source": [
        "random.seed(SEED)\n",
        "batch_X, batch_Y = random.choice(zip(test_X, test_Y))\n",
        "y_pred_wtte = model.predict(batch_X.reshape(1, max_batch_len, nb_features))[0]\n",
        "gif_path = \"Images/test_engine_sample.gif\"\n",
        "generate_gif(y_pred_wtte, batch_Y, gif_path, freq=2)\n",
        "\n",
        "print \"Test Sample\"\n",
        "from IPython.display import HTML\n",
        "HTML('<img src=\"'+ gif_path + '\">')"
      ],
      "execution_count": null,
      "outputs": []
    },
    {
      "cell_type": "markdown",
      "metadata": {
        "id": "tlWz2S9Su8vd"
      },
      "source": [
        "## GRU variant"
      ]
    },
    {
      "cell_type": "code",
      "metadata": {
        "id": "xPzySgV2u8vd"
      },
      "source": [
        "from keras.layers import Masking\n",
        "from keras.layers.core import Activation\n",
        "from keras.models import Sequential\n",
        "from keras.layers import Dense, GRU, TimeDistributed, Lambda\n",
        "from keras.callbacks import EarlyStopping, TerminateOnNaN, ModelCheckpoint\n",
        "import wtte.weibull as weibull\n",
        "import wtte.wtte as wtte\n",
        "\n",
        "baseline_gru_path = \"baseline_gru_model_weights\"\n",
        "\n",
        "# Callbacks\n",
        "early_stopping = EarlyStopping(monitor='val_loss', \n",
        "                               min_delta=0, \n",
        "                               patience=30, \n",
        "                               verbose=0, \n",
        "                               mode='min')\n",
        "checkpoint = ModelCheckpoint(baseline_gru_path, \n",
        "                             monitor='val_loss', \n",
        "                             save_best_only=True, \n",
        "                             save_weights_only=True, \n",
        "                             mode='min', \n",
        "                             verbose=0)\n",
        "\n",
        "nb_features = train_X.shape[2]\n",
        "nb_out = train_Y.shape[1]\n",
        "\n",
        "init_alpha = np.nanmean(train_Y_wtte[:,0])\n",
        "\n",
        "model = Sequential()\n",
        "model.add(Masking(mask_value=0.,\n",
        "                  input_shape=(max_batch_len, nb_features)))\n",
        "# We substitute LSTM for GRU\n",
        "model.add(GRU(\n",
        "         input_shape=(None, nb_features),\n",
        "         units=100,\n",
        "         recurrent_dropout=0.2,\n",
        "         return_sequences=True))\n",
        "model.add(GRU(\n",
        "          units=50,\n",
        "          recurrent_dropout=0.2,\n",
        "          return_sequences=True))\n",
        "model.add(TimeDistributed(Dense(2)))\n",
        "model.add(Lambda(wtte.output_lambda, \n",
        "                 arguments={# Initialization value around it's scale\n",
        "                            \"init_alpha\": np.nanmean(train_Y_wtte[:,0]), \n",
        "                            # Set a maximum\n",
        "                            \"max_beta_value\": 10.0,\n",
        "                            # We set the scalefactor to avoid exploding gradients\n",
        "                            \"scalefactor\": 0.25\n",
        "                           },\n",
        "                ))\n",
        "loss = wtte.Loss(kind='discrete', clip_prob=1e-5).loss_function\n",
        "model.compile(loss=loss, optimizer='rmsprop')"
      ],
      "execution_count": null,
      "outputs": []
    },
    {
      "cell_type": "code",
      "metadata": {
        "id": "Ju3Iy8m7u8vf"
      },
      "source": [
        "print(model.summary())\n",
        "\n",
        "# fit the network\n",
        "history = model.fit(train_X, train_Y_wtte, epochs=500, batch_size=16, \n",
        "                    validation_data=(val_X, val_Y_wtte), shuffle=True, verbose=2,\n",
        "                    callbacks = [early_stopping, checkpoint, TerminateOnNaN()])\n",
        "\n",
        "# list all data in history\n",
        "print(history.history.keys())"
      ],
      "execution_count": null,
      "outputs": []
    },
    {
      "cell_type": "code",
      "metadata": {
        "id": "BB4Qw3aYu8vi"
      },
      "source": [
        "# Execute if training in Colaboratory (preferably from Chrome)\n",
        "# Downloads the model after the training finishes\n",
        "\n",
        "from google.colab import files\n",
        "files.download(baseline_gru_path)\n",
        "\n",
        "# Move the model to the expected folder\n",
        "!mv baseline_gru_path Models/"
      ],
      "execution_count": null,
      "outputs": []
    },
    {
      "cell_type": "code",
      "metadata": {
        "id": "I_A1MG8Su8vj"
      },
      "source": [
        "%matplotlib inline\n",
        "\n",
        "plt.plot(history.history[\"loss\"], color=\"blue\")\n",
        "plt.plot(history.history[\"val_loss\"], color=\"green\")"
      ],
      "execution_count": null,
      "outputs": []
    },
    {
      "cell_type": "code",
      "metadata": {
        "id": "o2RGWx9Au8vm"
      },
      "source": [
        "# Execute if you want to upload a model to Collaboratory\n",
        "\n",
        "from google.colab import files\n",
        "uploaded = files.upload()\n",
        "\n",
        "for fn in uploaded.keys():\n",
        "    print('User uploaded file \"{name}\" with length {length} bytes'.format(\n",
        "      name=fn, length=len(uploaded[fn])))"
      ],
      "execution_count": null,
      "outputs": []
    },
    {
      "cell_type": "code",
      "metadata": {
        "id": "y45PdoIlu8vo"
      },
      "source": [
        "# Compile model first to load weights\n",
        "\n",
        "model.load_weights(\"Models/\" + baseline_gru_path)"
      ],
      "execution_count": null,
      "outputs": []
    },
    {
      "cell_type": "code",
      "metadata": {
        "id": "GxJOfe2du8vq"
      },
      "source": [
        "# We save the validation errors to later compare the models\n",
        "validation_gru = [mean_weibull(alpha, beta) \n",
        "                   for batch in model.predict(val_X) \n",
        "                   for beta, alpha in batch]\n",
        "\n",
        "evaluate_and_plot(model,\n",
        "                  [(\"Train\", train_X, train_Y_wtte), \n",
        "                   (\"Validation\", val_X, val_Y_wtte), \n",
        "                   (\"Test\", test_X, test_Y_wtte)],\n",
        "                  weibull_function = mean_weibull)"
      ],
      "execution_count": null,
      "outputs": []
    },
    {
      "cell_type": "markdown",
      "metadata": {
        "id": "nFxqeniJu8vt"
      },
      "source": [
        "# Result\n",
        "\n",
        "The are three models:\n",
        "- baseline\n",
        "- baseline WTTE-RNN LSTM\n",
        "- baseline WTTE-RNN GRU\n",
        "\n",
        "The mean is used as the expected value of the RUL."
      ]
    },
    {
      "cell_type": "code",
      "metadata": {
        "id": "9FSaxgw6u8vu"
      },
      "source": [
        "%matplotlib inline\n",
        "import seaborn as sns\n",
        "\n",
        "l = val_Y.flatten()\n",
        "y_true = np.ma.compressed(np.ma.masked_where(l==0, l))\n",
        "y_pred_baseline = np.ma.compressed(np.ma.masked_where(l==0, validation_baseline))\n",
        "y_pred_wtte = np.ma.compressed(np.ma.masked_where(l==0, validation_wtte))\n",
        "y_pred_gru = np.ma.compressed(np.ma.masked_where(l==0, validation_gru))\n",
        "\n",
        "\n",
        "fig = plt.figure()\n",
        "ax = fig.add_subplot(1, 1, 1)\n",
        "ax.violinplot([y_pred_baseline - y_true, \n",
        "                    y_pred_wtte - y_true,\n",
        "                    y_pred_gru - y_true])\n",
        "\n",
        "ax.set_xticklabels([])\n",
        "plt.figtext(0.21, 0.1, ' Baseline')\n",
        "plt.figtext(0.480, 0.1, ' Baseline WTTE')\n",
        "plt.figtext(0.76, 0.1, ' Baseline GRU')\n",
        "\n",
        "fig.set_size_inches(15, 10)"
      ],
      "execution_count": null,
      "outputs": []
    },
    {
      "cell_type": "code",
      "metadata": {
        "id": "FHLa4LTVu8vw"
      },
      "source": [
        ""
      ],
      "execution_count": null,
      "outputs": []
    },
    {
      "cell_type": "code",
      "metadata": {
        "id": "Qshyia0QlXxU"
      },
      "source": [
        ""
      ],
      "execution_count": null,
      "outputs": []
    },
    {
      "cell_type": "code",
      "metadata": {
        "id": "s8yHHMS_lXxU"
      },
      "source": [
        ""
      ],
      "execution_count": null,
      "outputs": []
    },
    {
      "cell_type": "code",
      "metadata": {
        "id": "lHDy4omLlXxU"
      },
      "source": [
        ""
      ],
      "execution_count": null,
      "outputs": []
    },
    {
      "cell_type": "code",
      "metadata": {
        "id": "VbsKFE7llXxU"
      },
      "source": [
        ""
      ],
      "execution_count": null,
      "outputs": []
    }
  ]
}